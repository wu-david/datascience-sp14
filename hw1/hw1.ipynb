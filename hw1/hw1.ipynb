{
 "metadata": {
  "name": ""
 },
 "nbformat": 3,
 "nbformat_minor": 0,
 "worksheets": [
  {
   "cells": [
    {
     "cell_type": "markdown",
     "metadata": {},
     "source": [
      "CS194-16 Introduction to Data Science\n",
      "\n",
      "**Name**: David Wu\n",
      "\n",
      "**Student ID**: 22934420\n",
      "\n",
      "\n",
      "Assignment 1: Text Analysis and Entity Resolution\n",
      "===\n",
      "\n",
      "## Overview\n",
      "\n",
      "Entity resolution is a common, yet difficult problem in data cleaning and integration.\n",
      "In this assignment, we will use powerful and scalable text analysis techniques to perform entity resolution across two data sets of commercial products."
     ]
    },
    {
     "cell_type": "markdown",
     "metadata": {},
     "source": [
      "### Entity Resolution\n",
      "\n",
      "Entity resolution, also known as record deduplication, is the process of identifying rows in one or more data sets that refer to the same real world entity.\n",
      "Take an example.\n",
      "You're on ebay looking for a [hip data science accessory][sliderulewiki], but you're on a budget, so you decide to scrape the [ebay listings][ebay] for a few days to get a feel for the market.\n",
      "Unfortunately, the listings are confusing and you don't know how to aggregate them.\n",
      "Entity resolution to the rescue!\n",
      "You find an [authoritative database][sliderules] and map all the ebay listings to it.\n",
      "Now you can comparison shop, get that sweet Keuffel and Esser for way cheap, and impress all the data hipsters.\n",
      "\n",
      "But finding matching records is a hard problem in general.\n",
      "A major reason is that the criteria for identifying duplicates are often vague and impossible to encode in rules.\n",
      "In addition, from a purely computational perspective, the problem is quadratic in the size of its inputs: naively, all pairs of records need to be compared to find all the duplicates.\n",
      "In this assignment, we will begin to address both these challenges.\n",
      "\n",
      "[sliderulewiki]: http://en.wikipedia.org/wiki/Slide_rule \"Only 2X faster than Hadoop\"\n",
      "\n",
      "[sliderules]: http://www.sliderule.ca/ \"Artisanal Data Technology\"\n",
      "\n",
      "[ebay]: http://www.ebay.com/sch/i.html?_odkw=keuffel+esser+slide+rule&_osacat=0&_trksid=p2045573.m570.l1313.TR0.TRC0.Xslide+rule&_nkw=slide+rule&_sacat=0&_from=R40 \"Impress your colleagues\""
     ]
    },
    {
     "cell_type": "markdown",
     "metadata": {},
     "source": [
      "\n",
      "### Application\n",
      "\n",
      "Your assignment is to perform entity resolution over two web-scraped data sets of commercial product listings, one from Amazon, and one from Google.\n",
      "The goal is to build a unified database of all products listed on the Internet: a one-stop-shop for all your shopping needs.  (Elevator pitch: *it's like **Kayak.com** for **e-commerce**!*)\n",
      "\n",
      "The web has made unprecedented amounts of data available publicly, but scraped data frequently needs to be de-duplicated.\n",
      "These data sets are typical examples of what you can collect with some simple scripting.\n",
      "The data is not especially large (just a few thousand records), but even so, you will find that entity resolution is a major challenge (top results with this data are ~50% success rate).\n",
      "Don't get discouraged; the goal is to get acquainted with techniques to tackle the problem, and apply them to a representative example.\n"
     ]
    },
    {
     "cell_type": "markdown",
     "metadata": {},
     "source": [
      "### Files\n",
      "\n",
      "Data files for this assignment can be found at:\n",
      "\n",
      "`https://github.com/amplab/datascience-sp14/raw/master/hw1/hw1data.tar.gz`\n",
      "\n",
      "The zip file includes the following files:\n",
      "\n",
      "* **Google.csv**, the Google Products data set \n",
      "* **Amazon.csv**, the Amazon data set\n",
      "* **Google_small.csv**, 200 records sampled from the Google data\n",
      "* **Amazon_small.csv**, 200 records sampled from the Amazon data\n",
      "* **Amazon_Google_perfectMapping.csv**, the \"gold standard\" mapping\n",
      "* **stopwords.txt**, a list of common English words\n",
      "\n",
      "Besides the complete data files, there are \"sample\" data files for each data set.\n",
      "Use these for **Part 1**.\n",
      "In addition, there is a \"gold standard\" file that contains all of the true mappings between entities in the two data sets.\n",
      "Every row in the gold standard file has a pair of record IDs (one Google, one Amazon) that belong to two record that describe the same thing in the real world.\n",
      "We will use the gold standard to evaluate our algorithms."
     ]
    },
    {
     "cell_type": "markdown",
     "metadata": {},
     "source": [
      "### Deliverables\n",
      "\n",
      "Complete the all the exercises below and turn in a write up in the form of an IPython notebook, that is, **an .ipynb file**.\n",
      "The write up should include your code, answers to exercise questions, and plots of results.\n",
      "Complete submission instructions will be posted on Piazza.\n",
      "\n",
      "You can use this notebook and fill in answers inline, or if you prefer, do your write up in a separate notebook.\n",
      "In this notebook, we provide code templates for many of the exercises.\n",
      "They are intended to help with code re-use, since the exercises build on each other, and are highly recommended.\n",
      "Don't forget to include answers to questions that ask for natural language responses, i.e., in English, not code!"
     ]
    },
    {
     "cell_type": "markdown",
     "metadata": {},
     "source": [
      "### Guidelines\n",
      "\n",
      "#### Code\n",
      "\n",
      "This assignment can be done with basic python and matplotlib.\n",
      "Feel free to use PANDAs, too, which you may find well suited to several exercises.\n",
      "As for other libraries, please check with course staff whether they're allowed.\n",
      "In general, we want you to use whatever is comfortable, except for libraries (e.g., NLTK) that include functionality covered in the assignment.\n",
      "\n",
      "You're not required to do your coding in IPython, so feel free to use your favorite editor or IDE.\n",
      "But when you're done, remember to put your code into a notebook for your write up.\n",
      "\n",
      "#### Collaboration\n",
      "\n",
      "This assignment is to be done individually.  Everyone should be getting a hands on experience in this course.  You are free to discuss course material with fellow students, and we encourage you to use Internet resources to aid your understanding, but the work you turn in, including all code and answers, must be your own work."
     ]
    },
    {
     "cell_type": "markdown",
     "metadata": {},
     "source": [
      "## Part 0: Preliminaries\n",
      "\n",
      "### Exercise 0\n",
      "\n",
      "Download the data and unzip it.\n",
      "Read each file in from the file system, and store them as lists of lines.\n",
      "\n",
      "For each of the data files (\"Google.csv\", \"Amazon.csv\", and the samples), we want to parse the IDs out of each record.\n",
      "The IDs are the first column of the file (they are URLs for Google, and alphanumeric strings for Amazon).\n",
      "Omitting the headers, load these data files into *dictionaries mapping ID to a string containing the rest of the record*.\n"
     ]
    },
    {
     "cell_type": "code",
     "collapsed": false,
     "input": [
      "DATA_PATH = \"/home/saasbook/datascience-sp14/hw1/data/\"\n",
      "import csv\n",
      "\n",
      "amazon = {}\n",
      "amazon_file = csv.DictReader(open(DATA_PATH + \"Amazon.csv\"))\n",
      "for row in amazon_file:\n",
      "    amazon[row['id']] = row[\"title\"] +' ' + row[\"description\"] +' ' + row[\"manufacturer\"] +' ' + row[\"price\"]\n",
      "\n",
      "amazon_small = {}\n",
      "amazon_file = csv.DictReader(open(DATA_PATH + \"Amazon_small.csv\"))\n",
      "for row in amazon_file:\n",
      "    amazon_small[row['id']] = row[\"title\"] + ' ' +row[\"description\"] +' ' + row[\"manufacturer\"] +' ' + row[\"price\"]\n",
      "\n",
      "google = {}\n",
      "google_file = csv.DictReader(open(DATA_PATH + \"Google.csv\"))\n",
      "for row in google_file:\n",
      "    google[row['id']] = row[\"name\"] +' ' + row[\"description\"] +' ' + row[\"manufacturer\"] + ' ' +row[\"price\"]\n",
      "\n",
      "google_small = {}\n",
      "google_file = csv.DictReader(open(DATA_PATH + \"Google_small.csv\"))\n",
      "for row in google_file:\n",
      "    google_small[row['id']] = row[\"name\"] + ' ' +row[\"description\"] + ' ' +row[\"manufacturer\"] + ' ' +row[\"price\"]\n"
     ],
     "language": "python",
     "metadata": {},
     "outputs": [],
     "prompt_number": 12
    },
    {
     "cell_type": "markdown",
     "metadata": {},
     "source": [
      "## Part 1: ER as Text Similarity\n",
      "\n",
      "A simple approach to entity resolution is to treat all records as strings and compute their similarity with a string distance function.\n",
      "In this section, we will build some components for bag-of-words text-analysis, and use them to compute record similarity.\n",
      "\n",
      "### 1.1 Bags of Words\n",
      "\n",
      "Bag-of-words is a conceptually simple yet powerful approach to text analysis.\n",
      "The idea is to treat strings, a.k.a. **documents**, as *unordered collections* of words, or **tokens**, i.e., as bags of words.\n",
      "\n",
      "> **Note on terminology**: \"token\" is more general than what we ordinarily mean by \"word\" and includes things like numbers, acronyms, and other exotica like word-roots and fixed-length character strings.\n",
      "> Bag of words techniques all apply to any sort of token, so when we say \"bag-of-words\" we really mean \"bag-of-tokens,\" strictly speaking.\n",
      "\n",
      "Tokens become the atomic unit of text comparison.\n",
      "If we want to compare two documents, we count how many tokens they share in common.\n",
      "If we want to search for documents with keyword queries (this is what Google does), then we turn the keywords into tokens and find documents that contain them.\n",
      "\n",
      "The power of this approach is that it makes string comparisons insensitive to small differences that probably do not affect meaning much, for example, punctuation and word order.\n",
      "\n"
     ]
    },
    {
     "cell_type": "markdown",
     "metadata": {},
     "source": [
      "#### Exercise 1\n",
      "\n",
      "**a**. Implement the function `simple_tokenize(string)` that takes a string and returns a list of tokens in the string.\n",
      "`simple_tokenize` should split strings using the provided regular expression.\n",
      "Since we want to make token-matching case insensitive, make sure all tokens are lower-case.\n",
      "Give an interpretation, in natural language, of what the regular expression, `split_regex`, matches."
     ]
    },
    {
     "cell_type": "code",
     "collapsed": false,
     "input": [
      "import re\n",
      "\n",
      "quickbrownfox = \"A quick brown fox jumps over the lazy dog.\"\n",
      "split_regex = r'\\W+'\n",
      "\n",
      "def simple_tokenize(string):\n",
      "    return filter(None, re.split(split_regex, string.lower()))\n",
      "\n",
      "print simple_tokenize(quickbrownfox) # Should give ['a', 'quick', 'brown', ... ]"
     ],
     "language": "python",
     "metadata": {},
     "outputs": [
      {
       "output_type": "stream",
       "stream": "stdout",
       "text": [
        "['a', 'quick', 'brown', 'fox', 'jumps', 'over', 'the', 'lazy', 'dog']\n"
       ]
      }
     ],
     "prompt_number": 13
    },
    {
     "cell_type": "markdown",
     "metadata": {},
     "source": [
      "> TODO Answer questions\n",
      "\n",
      "> split_regex specifies a set of strings that match it.  The prefix \"r\" is used to indicate a raw string. '\\W+' indicates it'll look for non-alphanumeric characters. The + indicates one or more repetitions. In this case, when split_regex is used it will look for any non-alphanumeric character as a delimiter between words to split."
     ]
    },
    {
     "cell_type": "markdown",
     "metadata": {},
     "source": [
      "**b**. *Stopwords* are common words that do not contribute much to the content or meaning of a document (e.g., \"the\", \"a\", \"is\", \"to\", etc.).\n",
      "Stopwords add noise to bag-of-words comparisons, so the are usually excluded.\n",
      "Using the included file \"stopwords.txt\", implement `tokenize`, an improved tokenizer that does not emit stopwords.\n"
     ]
    },
    {
     "cell_type": "code",
     "collapsed": false,
     "input": [
      "stopwords = [line.rstrip() for line in open(DATA_PATH + \"stopwords.txt\", 'r')] # Load from file\n",
      "\n",
      "# TODO Implement this\n",
      "def tokenize(string):\n",
      "    return [word for word in simple_tokenize(string) if word not in stopwords]\n",
      "\n",
      "print tokenize(quickbrownfox) # Should give ['quick', 'brown', ... ]"
     ],
     "language": "python",
     "metadata": {},
     "outputs": [
      {
       "output_type": "stream",
       "stream": "stdout",
       "text": [
        "['quick', 'brown', 'fox', 'jumps', 'lazy', 'dog']\n"
       ]
      }
     ],
     "prompt_number": 14
    },
    {
     "cell_type": "markdown",
     "metadata": {},
     "source": [
      "**c**. Now let's tokenize the two small data sets.\n",
      "For each one build a dictionary of tokens, i.e., a dictionary where the record IDs are the keys, and the output of `tokenize` is the values.\n",
      "How many tokens, total, are there in the two data sets?\n",
      "Which Amazon record has the biggest number of tokens?"
     ]
    },
    {
     "cell_type": "code",
     "collapsed": false,
     "input": [
      "# TODO Compute these (dict() or DataFrame OK)\n",
      "amazon_rec2tok = {}\n",
      "google_rec2tok = {}\n",
      "total_tokens = 0\n",
      "\n",
      "for key in amazon_small:\n",
      "    tokens = tokenize(amazon_small[key])\n",
      "    amazon_rec2tok[key] = tokens\n",
      "    total_tokens += len(tokens)\n",
      "for key in google_small:\n",
      "    tokens = tokenize(google_small[key])\n",
      "    google_rec2tok[key] = tokens\n",
      "    total_tokens += len(tokens)\n",
      "\n",
      "print 'There are %s tokens in the combined data sets' % total_tokens\n",
      "\n",
      "biggest_record = max(amazon_rec2tok, key = lambda x:len(amazon_rec2tok[x]))\n",
      "print 'The Amazon record with ID \"%s\" has the most tokens' % biggest_record"
     ],
     "language": "python",
     "metadata": {},
     "outputs": [
      {
       "output_type": "stream",
       "stream": "stdout",
       "text": [
        "There are 23242 tokens in the combined data sets\n",
        "The Amazon record with ID \"b000o24l3q\" has the most tokens\n"
       ]
      }
     ],
     "prompt_number": 15
    },
    {
     "cell_type": "markdown",
     "metadata": {},
     "source": [
      "### 1.2 Weighted Bag-of-Words: TF-IDF\n",
      "\n",
      "Bag-of-words comparisons are not very good when all tokens are treated the same: some tokens are more important than others.\n",
      "Weights give us a way to specify which tokens to favor.\n",
      "With weights, when we compare documents, instead of counting common tokens, we sum up the weights of common tokens.\n",
      "\n",
      "A good heuristic for assigning weights is called \"Term-Frequency/Inverse-Document-Frequency,\" or TF-IDF for short.\n",
      "\n",
      "#### TF\n",
      "\n",
      "TF rewards tokens that appear many times in the same document.\n",
      "It is computed as the frequency of a token in a document, that is, if document `d` contains 100 tokens and token `t` appears in `d` 5 times, then the TF weight of `t` in `d` is `5/100 = 1/20`.\n",
      "The intuition for TF is that if a word occurs often in a document, then it is more important to the meaning of the document.\n",
      "\n",
      "#### IDF\n",
      "\n",
      "IDF rewards tokens that are rare overall in a data set.\n",
      "The intuition is that it is more significant if two documents share a rare word than a common one.\n",
      "IDF weight for a token, *t*, in a set of documents, *U*, is computed as follows: \n",
      "\n",
      "* Let *N* be the total number of documents in *U*\n",
      "* Find *n(t)*, the number of documents in *U* that contain *t*\n",
      "* Then *IDF(t) = N/n(t)*.\n",
      "\n",
      "Note that *n(t)/N* is the frequency of *t* in *U*, and *N/n* is the inverse frequency.\n",
      "\n",
      "> **Note on terminology**: Sometimes token weights depend on the document the token belongs to, that is, the same token may have a different weight when it's found in different documents.  We call these weights `local` weights.  TF is an example of a local weight, because it depends on the length of the source.  On the other hand, some token weights only depend on the token, and are the same everywhere that token is found.  We call these weights `global`, and IDF is one such weight.\n",
      "\n",
      "#### TF-IDF\n",
      "\n",
      "Finally, to bring it all together, the total TF-IDF weight for a token in a document is the product of its TF and IDF weights."
     ]
    },
    {
     "cell_type": "markdown",
     "metadata": {},
     "source": [
      "#### Exercise 2\n",
      "\n",
      "**a**. Implement `tf(tokens)` that takes a list of tokens belonging to a single document and returns a dictionary mapping tokens to TF weights.\n"
     ]
    },
    {
     "cell_type": "code",
     "collapsed": false,
     "input": [
      "# TODO Implement this\n",
      "from collections import Counter\n",
      "def tf(tokens):\n",
      "    total = float(len(tokens))\n",
      "    count = Counter()\n",
      "    for word in tokens:\n",
      "        count[word] += 1\n",
      "    count = dict(count)\n",
      "    for word in count:\n",
      "        count[word] = float(count[word]) / total\n",
      "    return count\n",
      "    \n",
      "\n",
      "print tf(tokenize(quickbrownfox)) # Should give { 'quick': 0.1666 ... }"
     ],
     "language": "python",
     "metadata": {},
     "outputs": [
      {
       "output_type": "stream",
       "stream": "stdout",
       "text": [
        "{'brown': 0.16666666666666666, 'lazy': 0.16666666666666666, 'quick': 0.16666666666666666, 'jumps': 0.16666666666666666, 'fox': 0.16666666666666666, 'dog': 0.16666666666666666}\n"
       ]
      }
     ],
     "prompt_number": 16
    },
    {
     "cell_type": "markdown",
     "metadata": {},
     "source": [
      "**b**. Implement `find_idfs` that assigns an IDF weight to every unique token in a collection of data called `corpus`.  You may structure `corpus` however you want, but `find_idfs` should return a dictionary mapping tokens to weights.  Use `find_idfs` to compute IDF weights for all tokens in the combined small data sets.  How many unique tokens are there?"
     ]
    },
    {
     "cell_type": "code",
     "collapsed": false,
     "input": [
      "# corpus is a list of dictionaries. Each dictionary is a document\n",
      "def find_idfs(corpus):\n",
      "    idfs = Counter()\n",
      "    total = 0 # total documents\n",
      "    for d in corpus:\n",
      "        for key in d:\n",
      "            total += 1\n",
      "            words = set()\n",
      "            for word in tokenize(d[key]):\n",
      "                words.add(word)\n",
      "            for word in words:\n",
      "                idfs[word] += 1\n",
      "                \n",
      "    for key in idfs:\n",
      "        idfs[key] = float(total) / float(idfs[key])\n",
      "        \n",
      "    idfs = dict(idfs)\n",
      "    #print idfs\n",
      "    return idfs\n",
      "\n",
      "idfs_small = find_idfs([amazon_small, google_small]) # Use find_idfs here\n",
      "#print len(idfs_small)\n",
      "unique_tokens = len(idfs_small)\n",
      "#print idfs_small\n",
      "\n",
      "print \"There are %s unique tokens in the small data sets.\" % unique_tokens"
     ],
     "language": "python",
     "metadata": {},
     "outputs": [
      {
       "output_type": "stream",
       "stream": "stdout",
       "text": [
        "There are 4900 unique tokens in the small data sets.\n"
       ]
      }
     ],
     "prompt_number": 17
    },
    {
     "cell_type": "markdown",
     "metadata": {},
     "source": [
      "**c**. What are the 10 tokens with the smallest IDF in the combined small data set?  Do you think they are useful for entity resolution?  Why or why not?"
     ]
    },
    {
     "cell_type": "code",
     "collapsed": false,
     "input": [
      "import operator\n",
      "small_idf_tokens = [val[0] for val in sorted(idfs_small.items(), key=operator.itemgetter(1))[0:10]]\n",
      "\n",
      "print small_idf_tokens"
     ],
     "language": "python",
     "metadata": {},
     "outputs": [
      {
       "output_type": "stream",
       "stream": "stdout",
       "text": [
        "['99', '0', 'software', '9', 'new', 'features', 'use', '95', 'complete', 'easy']\n"
       ]
      }
     ],
     "prompt_number": 18
    },
    {
     "cell_type": "markdown",
     "metadata": {},
     "source": [
      "> TODO Answer questions\n",
      "\n",
      "> The ten tokens are: ['99', '0', 'software', '9', 'new', 'features', 'use', '95', 'complete', 'easy']\n",
      "\n",
      "> Small IDFs can still be useful for entity resolution. Since these words appear in many documents, it may indicate a type of language or keywords used to discuss certain topics; however, in most cases, these words probably need to be filtered out with stopwords. In this case, these tokens do not seem too useful for our entity resolution."
     ]
    },
    {
     "cell_type": "markdown",
     "metadata": {},
     "source": [
      "**d**. Plot a histogram of IDF values.  Be sure to use appropriate scaling and bucketing for the data.  What conclusions can you draw from the distribution of weights?"
     ]
    },
    {
     "cell_type": "code",
     "collapsed": false,
     "input": [
      "import pylab\n",
      "%matplotlib inline\n",
      "\n",
      "pylab.hist(idfs_small.values(), bins=100)\n",
      "# TODO Make a plot. HINT: You can use pylab.hist"
     ],
     "language": "python",
     "metadata": {},
     "outputs": [
      {
       "metadata": {},
       "output_type": "pyout",
       "prompt_number": 19,
       "text": [
        "(array([   6,   23,   32,   29,   39,   54,   38,   36,   30,   34,   36,\n",
        "         66,    0,   76,    0,    0,  104,    0,    0,  153,    0,    0,\n",
        "          0,    0,  256,    0,    0,    0,    0,    0,    0,    0,  420,\n",
        "          0,    0,    0,    0,    0,    0,    0,    0,    0,    0,    0,\n",
        "          0,    0,    0,    0,    0,  915,    0,    0,    0,    0,    0,\n",
        "          0,    0,    0,    0,    0,    0,    0,    0,    0,    0,    0,\n",
        "          0,    0,    0,    0,    0,    0,    0,    0,    0,    0,    0,\n",
        "          0,    0,    0,    0,    0,    0,    0,    0,    0,    0,    0,\n",
        "          0,    0,    0,    0,    0,    0,    0,    0,    0,    0,    0,\n",
        "       2553]),\n",
        " array([   2.98507463,    6.95522388,   10.92537313,   14.89552239,\n",
        "         18.86567164,   22.8358209 ,   26.80597015,   30.7761194 ,\n",
        "         34.74626866,   38.71641791,   42.68656716,   46.65671642,\n",
        "         50.62686567,   54.59701493,   58.56716418,   62.53731343,\n",
        "         66.50746269,   70.47761194,   74.44776119,   78.41791045,\n",
        "         82.3880597 ,   86.35820896,   90.32835821,   94.29850746,\n",
        "         98.26865672,  102.23880597,  106.20895522,  110.17910448,\n",
        "        114.14925373,  118.11940299,  122.08955224,  126.05970149,\n",
        "        130.02985075,  134.        ,  137.97014925,  141.94029851,\n",
        "        145.91044776,  149.88059701,  153.85074627,  157.82089552,\n",
        "        161.79104478,  165.76119403,  169.73134328,  173.70149254,\n",
        "        177.67164179,  181.64179104,  185.6119403 ,  189.58208955,\n",
        "        193.55223881,  197.52238806,  201.49253731,  205.46268657,\n",
        "        209.43283582,  213.40298507,  217.37313433,  221.34328358,\n",
        "        225.31343284,  229.28358209,  233.25373134,  237.2238806 ,\n",
        "        241.19402985,  245.1641791 ,  249.13432836,  253.10447761,\n",
        "        257.07462687,  261.04477612,  265.01492537,  268.98507463,\n",
        "        272.95522388,  276.92537313,  280.89552239,  284.86567164,\n",
        "        288.8358209 ,  292.80597015,  296.7761194 ,  300.74626866,\n",
        "        304.71641791,  308.68656716,  312.65671642,  316.62686567,\n",
        "        320.59701493,  324.56716418,  328.53731343,  332.50746269,\n",
        "        336.47761194,  340.44776119,  344.41791045,  348.3880597 ,\n",
        "        352.35820896,  356.32835821,  360.29850746,  364.26865672,\n",
        "        368.23880597,  372.20895522,  376.17910448,  380.14925373,\n",
        "        384.11940299,  388.08955224,  392.05970149,  396.02985075,  400.        ]),\n",
        " <a list of 100 Patch objects>)"
       ]
      },
      {
       "metadata": {},
       "output_type": "display_data",
       "png": "[encoded data removed]",
       "text": [
        "<matplotlib.figure.Figure at 0xa4cb72c>"
       ]
      }
     ],
     "prompt_number": 19
    },
    {
     "cell_type": "markdown",
     "metadata": {},
     "source": [
      "> TODO Answer questions\n",
      "\n",
      "> Most tokens only appear once in a document. The distribution also seems logirthmic such that many words only appear in one document, less in two, and even less in three and so forth."
     ]
    },
    {
     "cell_type": "markdown",
     "metadata": {},
     "source": [
      "**e**. Use `tf` to implement `tfidf(tokens, idfs)` that takes a list of tokens from a document and a dictionary of idf weights and returns a dictionary mapping tokens to total TF-IDF weight.  Use `tfidf` to compute the weights of Amazon product record 'b000hkgj8k'."
     ]
    },
    {
     "cell_type": "code",
     "collapsed": false,
     "input": [
      "# TODO Implement this\n",
      "def tfidf(tokens, idfs):\n",
      "    tf_weights = tf(tokens)\n",
      "    tf_idf = {}\n",
      "    for token in tokens:\n",
      "        tf_idf[token] = float(tf_weights[token]) * float(idfs[token])\n",
      "    return tf_idf\n",
      "\n",
      "rec_b000hkgj8k_weights = tfidf(tokenize(amazon_small['b000hkgj8k']), idfs_small)\n",
      "\n",
      "print \"Amazon record 'b000hkgj8k' has tokens and weights:\\n%s\" % rec_b000hkgj8k_weights"
     ],
     "language": "python",
     "metadata": {},
     "outputs": [
      {
       "output_type": "stream",
       "stream": "stdout",
       "text": [
        "Amazon record 'b000hkgj8k' has tokens and weights:\n",
        "{'autocad': 28.57142857142857, 'autodesk': 7.142857142857142, '47': 14.285714285714285, 'courseware': 57.14285714285714, 'psg': 28.57142857142857, '2007': 3.007518796992481, 'customizing': 14.285714285714285, 'interface': 2.5974025974025974, '95': 0.5194805194805194}\n"
       ]
      }
     ],
     "prompt_number": 20
    },
    {
     "cell_type": "markdown",
     "metadata": {},
     "source": [
      "\n",
      "### 1.3 Cosine Similarity\n",
      "\n",
      "Now we are ready to do text comparisons in a formal way.\n",
      "The metric of string distance we will use is called **cosine similarity**.\n",
      "We will treat each document as a vector in some high dimensional space.\n",
      "Then, to compare two documents we compute the cosine of the angle between their two document vectors.\n",
      "This is easier than it sounds.\n",
      "\n",
      "The first question to answer is how do we represent documents as vectors?\n",
      "The answer is familiar: bag-of-words!\n",
      "We treat each unique token as a dimension, and treat token weights as magnitudes in their respective token dimensions.\n",
      "For example, suppose we use simple counts as weights, and we want to interpret the string \"Hello, world!  Goodbye, world!\" as a vector.\n",
      "Then in the \"hello\" and \"goodbye\" dimensions the vector has value 1, in the \"world\" dimension it has value 2, and it is zero in all other dimensions.\n",
      "\n",
      "Next question is: given two vectors how do we find the cosine of the angle between them?\n",
      "Recall the formula for the dot product of two vectors:\n",
      "\n",
      "$$a \\cdot b = \\| a \\| \\| b \\| \\cos \\theta$$\n",
      "\n",
      "Here $a \\cdot b = \\sum_{i=1}^n a_i b_i$ is the ordinary dot product of two vectors, and $\\|a\\| = \\sqrt{ \\sum_{i=1}^n a_i^2 }$ is the norm of $a$.\n",
      "\n",
      "We can rearrange terms and solve for the cosine to find it is simply the normalized dot product of the vectors.\n",
      "With our vector model, the dot product and norm computations are simple functions of the bag-of-words document representations, so we now have a formal way to compute similarity:\n",
      "\n",
      "$$similarity = \\cos \\theta = \\frac{a \\cdot b}{\\|a\\| \\|b\\|} = \\frac{\\sum_{i=1}^n a_i b_i}{\\sqrt{\\sum_{i=1}^n a_i^2} \\sqrt{\\sum_{i=1}^n b_i^2}}$$\n",
      "\n",
      "Setting aside the algebra, the geometric interpretation is more intuitive.\n",
      "The angle between two document vectors is small if they share many tokens in common, because they are pointing in roughly the same direction.\n",
      "Then, the cosine of the angle will be large.\n",
      "Otherwise, if the angle is large (and they have few words in common), the cosine is small.\n",
      "So the cosine scales proportionally with our intuitive sense of similarity."
     ]
    },
    {
     "cell_type": "markdown",
     "metadata": {},
     "source": [
      "\n",
      "#### Exercise 3\n",
      "\n",
      "**a**. Implement `cosine_similarity(string1, string2, idfs)` that takes two strings and computes their cosine similarity in the context of some global IDF weights.\n",
      "Use `tokenize`, `tfidf`, and the IDF weights from exercise **2b** for extracting tokens and assigning them weights.\n"
     ]
    },
    {
     "cell_type": "code",
     "collapsed": false,
     "input": [
      "import math\n",
      "\n",
      "# Optional utility\n",
      "def dotprod(a, b):\n",
      "    keys_a = set(a.keys())\n",
      "    keys_b = set(b.keys())\n",
      "    keys = keys_a & keys_b\n",
      "    total = 0\n",
      "    for key in keys:\n",
      "        total += a[key]*b[key]\n",
      "    return total\n",
      "\n",
      "# Optional utility\n",
      "def norm(a):\n",
      "    total = 0\n",
      "    for val in a.values():\n",
      "        total += val**2\n",
      "    return math.sqrt(total)\n",
      "\n",
      "# Optional freebie\n",
      "def cossim(a, b):\n",
      "    return dotprod(a, b) / norm(a) / norm(b)\n",
      "\n",
      "test_vec1 = {'foo': 2, 'bar': 3, 'baz': 5 }\n",
      "test_vec2 = {'foo': 1, 'bar': 0, 'baz': 20 }\n",
      "print dotprod(test_vec1, test_vec2), norm(test_vec1) # Should be 102 6.16441400297\n",
      "\n",
      "# TODO Implement this\n",
      "def cosine_similarity(string1, string2, idfs):\n",
      "    a = tfidf(tokenize(string1), idfs)\n",
      "    b = tfidf(tokenize(string2), idfs)\n",
      "    return cossim(a, b)\n",
      "\n",
      "print cosine_similarity(\"Adobe Photoshop\",\n",
      "                        \"Adobe Illustrator\", \n",
      "                        idfs_small) # Should be 0.0577243382163"
     ],
     "language": "python",
     "metadata": {},
     "outputs": [
      {
       "output_type": "stream",
       "stream": "stdout",
       "text": [
        "102 6.16441400297\n",
        "0.0577243382163\n"
       ]
      }
     ],
     "prompt_number": 21
    },
    {
     "cell_type": "markdown",
     "metadata": {},
     "source": [
      "**b**. Now we can finally do some entity resolution!\n",
      "For every product record in the small Google data set, use `cosine_similarity` to compute its similarity to every record in the small Amazon set.  Build a dictionary mapping `(Amazon Id, Google Id)` tuples to similarity scores between 0 and 1.\n",
      "What is the similarity between Amazon record 'b000o24l3q' and Google record `http://www.google.com/base/feeds/snippets/17242822440574356561`."
     ]
    },
    {
     "cell_type": "code",
     "collapsed": false,
     "input": [
      "# TODO Compute similarities\n",
      "similarities = {}\n",
      "for key_a in amazon_small:\n",
      "    for key_b in google_small:\n",
      "        similarities[(key_a, key_b)] = cosine_similarity(amazon_small[key_a], google_small[key_b], idfs_small)\n",
      "#print max(similarities.values())\n",
      "print 'Requested similarity is %s.' % similarities[('b000o24l3q',\n",
      "  'http://www.google.com/base/feeds/snippets/17242822440574356561')]"
     ],
     "language": "python",
     "metadata": {},
     "outputs": [
      {
       "output_type": "stream",
       "stream": "stdout",
       "text": [
        "Requested similarity is 0.000301935456928.\n"
       ]
      }
     ],
     "prompt_number": 22
    },
    {
     "cell_type": "markdown",
     "metadata": {},
     "source": [
      "**c**.  Use the \"gold standard\" data (loaded from the included file) to answer the following questions.  How many true duplicate pairs are there in the small data set?  What is the average similarity score for true duplicates?  What about for non-duplicates?  Based on this, is cosine similarity doing a good job, qualitatively speaking, of identifying duplicates?  Why or why not?"
     ]
    },
    {
     "cell_type": "code",
     "collapsed": false,
     "input": [
      "import collections\n",
      "perfect_file = csv.DictReader(open(DATA_PATH + \"Amazon_Google_perfectMapping.csv\"))\n",
      "gold_standard = [(row['idAmazon'], row['idGoogleBase']) for row in perfect_file]\n",
      "\n",
      "true_dups = 0\n",
      "avg_sim_dups = 0.0\n",
      "avg_sim_non = 0.0\n",
      "dups = 0.0\n",
      "non_dups = 0.0\n",
      "\n",
      "for pair in similarities:  \n",
      "    if pair in gold_standard:\n",
      "        avg_sim_dups += similarities[pair]\n",
      "        dups += 1.0\n",
      "        true_dups += 1\n",
      "    else:\n",
      "        avg_sim_non += similarities[pair]\n",
      "        non_dups += 1.0\n",
      "        \n",
      "avg_sim_dups = avg_sim_dups / dups\n",
      "avg_sim_non = avg_sim_non /  non_dups\n",
      "\n",
      "print \"There are %s true duplicates.\" % true_dups\n",
      "print \"The average similarity of true duplicates is %s.\" % avg_sim_dups\n",
      "print \"And for non duplicates, it is %s.\" % avg_sim_non"
     ],
     "language": "python",
     "metadata": {},
     "outputs": [
      {
       "output_type": "stream",
       "stream": "stdout",
       "text": [
        "There are 146 true duplicates.\n",
        "The average similarity of true duplicates is 0.251111121887.\n",
        "And for non duplicates, it is 0.00116980178162.\n"
       ]
      }
     ],
     "prompt_number": 23
    },
    {
     "cell_type": "markdown",
     "metadata": {},
     "source": [
      "> TODO Answer questions\n",
      "\n",
      "> There are 146 true duplicates. The average similarity of true duplicates is 0.251111121887. The average similarity of non duplicates is 0.00116980178162. Based on these results, cosine similarity does a good job identifying duplicates as there is a significant difference between the average similarites of true duplicates and non duplicates"
     ]
    },
    {
     "cell_type": "markdown",
     "metadata": {},
     "source": [
      "## Part 2: Scalable ER\n",
      "\n",
      "In the previous section we built a text similarity function and used it for small scale entity resolution.  Our implementation is limited by its quadratic run time complexity, and is not practical for even modestly sized data sets.  In this section we will implement a more scalable algorithm and use it to do entity resolution on the full data set.\n",
      "\n",
      "### Inverted Indices\n",
      "\n",
      "To improve our ER algorithm from **Part 1**, we should begin by analyzing its running time.\n",
      "In particular, the algorithm above is quadratic in two ways.\n",
      "First, we did a lot of redundant computation of tokens and weights, since each record was reprocessed every time it was compared.\n",
      "Second, we made qudratically many token comparisons between records.\n",
      "\n",
      "The first source of quadratic overhead can be eliminated with precomputation and look-up tables, but the second source is a little more tricky.\n",
      "In the worst case, every token in every record in one data set exists in every record in the other data set, and therefore every token makes a nonzero contribution to the cosine similarity.\n",
      "In this case, token comparison is unavoidably quadratic.\n",
      "\n",
      "But in reality most records have nothing (or very little) in common.\n",
      "Moreover, it is typical for a record in one data set to have at most one duplicate record in the other data set (this is the case assuming each data set has been de-duplicated against itself).\n",
      "In this case, the output is linear in the size of the input and we can hope to achieve linear running time.\n",
      "\n",
      "An **inverted index** is a data structure that will allow us to avoid making quadratically many token comparisons.  It maps each token in the data set to the list of documents that contain the token.  So, instead of comparing, record by record, each token to every other token to see if they match, we will use inverted indices to *look up* records that match on a particular token.\n",
      "\n",
      "> **Note on terminology**: In text search, a *forward* index maps documents in a data set to the tokens they contain.  An *inverted* index supports the inverse mapping.\n"
     ]
    },
    {
     "cell_type": "markdown",
     "metadata": {},
     "source": [
      "#### Exercise 4\n",
      "\n",
      "> **Note**: For this section, use the complete Google and Amazon data sets, not the samples\n",
      "\n",
      "> **Pandas note**: If you use DataFrames for the mapping tables, make sure you index them correctly for efficient key look ups\n",
      "\n",
      "**a**. To address the overhead of recomputing tokens and token-weights, build a dictionary for each data set that maps record IDs to TF-IDF weighted token vectors (the vectors themselves should be dictionaries).  You will need to re-use code from above to recompute IDF weights for the complete combined data set."
     ]
    },
    {
     "cell_type": "code",
     "collapsed": false,
     "input": [
      "# Redo tokenization for full data set\n",
      "amazon_rec2tok = {}\n",
      "google_rec2tok = {}\n",
      "\n",
      "for key in amazon:\n",
      "    tokens = tokenize(amazon[key])\n",
      "    amazon_rec2tok[key] = tokens\n",
      "for key in google:\n",
      "    tokens = tokenize(google[key])\n",
      "    google_rec2tok[key] = tokens\n",
      "\n",
      "# Recompute IDFs for full data set\n",
      "idfs = find_idfs([amazon, google])\n",
      "\n",
      "# Pre-compute TF-IDF weights.  Build mappings from record ID weight vector.\n",
      "google_weights = {}\n",
      "amazon_weights = {}\n",
      "\n",
      "# Pre-compute norms.  Build mappings from record ID to norm of the weight vector.\n",
      "google_norms = {}\n",
      "amazon_norms = {}\n",
      "for key in amazon_rec2tok:\n",
      "    amazon_weights[key] = tfidf(amazon_rec2tok[key], idfs)\n",
      "    amazon_norms[key] = norm(amazon_weights[key])\n",
      "\n",
      "for key in google_rec2tok:\n",
      "    google_weights[key] = tfidf(google_rec2tok[key], idfs)\n",
      "    google_norms[key] = norm(google_weights[key])"
     ],
     "language": "python",
     "metadata": {},
     "outputs": [],
     "prompt_number": 24
    },
    {
     "cell_type": "markdown",
     "metadata": {},
     "source": [
      "**b**. Build inverted indices of both data sources."
     ]
    },
    {
     "cell_type": "code",
     "collapsed": false,
     "input": [
      "# TODO Implement this. Should return a mapping from token to list-of-record-IDs\n",
      "def invert_index(forward_index):\n",
      "    inverse = { }\n",
      "    for key, tokens in forward_index.iteritems():\n",
      "        for token in tokens:\n",
      "            if token not in inverse:\n",
      "                inverse[token] = [key]\n",
      "            else:\n",
      "                inverse[token].append(key)\n",
      "    return inverse\n",
      "\n",
      "# Pre-compute inverted indices\n",
      "amazon_inv = invert_index(amazon_weights)\n",
      "google_inv = invert_index(google_weights)"
     ],
     "language": "python",
     "metadata": {},
     "outputs": [],
     "prompt_number": 49
    },
    {
     "cell_type": "markdown",
     "metadata": {},
     "source": [
      "**c**. We are now in position to efficiently perform ER on the full data sets.\n",
      "Implement the following algorithm to build a dictionary that maps a pair of records (as a tuple) to a list of tokens they share in common:\n",
      "Iterate over tokens of one data set, and for each token, if the token appears in the other data set, use the inverted indices to find all pairs of records (one from either set) that contain the token.  Add these pairs to the output."
     ]
    },
    {
     "cell_type": "code",
     "collapsed": false,
     "input": [
      "import itertools\n",
      "\n",
      "# TODO Implement algorithm to compute this:        \n",
      "common_tokens = { } # Should map a record ID pair to a list of common tokens\n",
      "\n",
      "for token in amazon_inv:\n",
      "    a_ids = amazon_inv[token]\n",
      "    for rec_a in a_ids:\n",
      "        if token in google_inv:\n",
      "            g_ids = google_inv[token]\n",
      "            for rec_g in g_ids:\n",
      "                if (rec_a, rec_g) not in common_tokens:\n",
      "                    common_tokens[(rec_a, rec_g)] = [token]\n",
      "                else:\n",
      "                    common_tokens[(rec_a, rec_g)].append(token)\n",
      "        \n",
      "\n",
      "common_tokens = dict(common_tokens)\n",
      "\n",
      "print len(common_tokens) # Should be 2882143\n",
      "print common_tokens.keys()[0:20]\n",
      "print common_tokens.values()[0:20]"
     ],
     "language": "python",
     "metadata": {},
     "outputs": [
      {
       "output_type": "stream",
       "stream": "stdout",
       "text": [
        "2882143\n",
        "[('b000egoe9s', 'http://www.google.com/base/feeds/snippets/13517735545841379480'), ('b0009suw5q', 'http://www.google.com/base/feeds/snippets/13573519961862572084'), ('b000egidpy', 'http://www.google.com/base/feeds/snippets/13693694360546677062'), ('b000h24200', 'http://www.google.com/base/feeds/snippets/17546591632033422235'), ('b000btas3y', 'http://www.google.com/base/feeds/snippets/17137990908475407260'), ('b000068u3h', 'http://www.google.com/base/feeds/snippets/1366247437960571613'), ('b000ndic40', 'http://www.google.com/base/feeds/snippets/10902155796053790562'), ('b000pgq8sm', 'http://www.google.com/base/feeds/snippets/13350752071839986401'), ('b000fetuiy', 'http://www.google.com/base/feeds/snippets/17787032142812456248'), ('b0001na35s', 'http://www.google.com/base/feeds/snippets/13369517855071639147'), ('b000lwfbem', 'http://www.google.com/base/feeds/snippets/17449789691934713419'), ('b00008mnxr', 'http://www.google.com/base/feeds/snippets/10346497411945900130'), ('b000abapo0', 'http://www.google.com/base/feeds/snippets/13635462580810024712'), ('b0002w30e4', 'http://www.google.com/base/feeds/snippets/17043638434818426828'), ('b000o231le', 'http://www.google.com/base/feeds/snippets/5068947095089747483'), ('b000icpfmi', 'http://www.google.com/base/feeds/snippets/10881355389329582885'), ('b000in8n30', 'http://www.google.com/base/feeds/snippets/13783139861924882499'), ('b000088ner', 'http://www.google.com/base/feeds/snippets/13106173681796275626'), ('b000bw7kxw', 'http://www.google.com/base/feeds/snippets/18375765231096501819'), ('b000053f92', 'http://www.google.com/base/feeds/snippets/13774824523880714097')]"
       ]
      },
      {
       "output_type": "stream",
       "stream": "stdout",
       "text": [
        "\n",
        "[['99', 'favorite', 'features', 'art', 'include'], ['99', 'video', '0', 'deluxe', 'create', 'copy'], ['v'], ['2007'], ['part'], ['system', 'macintosh', 'windows'], ['pdf', 'runs', 'available', 'x', '0', 'running', '6', 'higher'], ['easy', 'network', 'based', 'signature', 'integrated'], ['easy', 'use'], ['secure', 'security', 'maintenance', 'connectivity'], ['easy', 'complete', '0', 'easily', 'use'], ['5'], ['software'], ['99', 'way', 'mac'], ['software'], ['software'], ['software'], ['powerful'], ['single', 'user'], ['includes']]"
       ]
      },
      {
       "output_type": "stream",
       "stream": "stdout",
       "text": [
        "\n"
       ]
      }
     ],
     "prompt_number": 40
    },
    {
     "cell_type": "markdown",
     "metadata": {},
     "source": [
      "**d**. Use the data structures from parts **a** and **c** to build a dictionary to map record pairs to cosine similarity scores."
     ]
    },
    {
     "cell_type": "code",
     "collapsed": false,
     "input": [
      "# TODO Implement this. Should take two record IDs and a list of common\n",
      "# tokens and return the cosine similarity of the two records.\n",
      "# Use results from part *a* for fast look ups.\n",
      "def fast_cosine_similarity(a_rec, g_rec, tokens):\n",
      "    total = 0.0\n",
      "    for token in tokens:\n",
      "        total += amazon_weights[a_rec][token] * google_weights[g_rec][token]\n",
      "    norm_a = amazon_norms[a_rec]\n",
      "    norm_b = google_norms[g_rec]\n",
      "    return total / norm_a / norm_b\n",
      "\n",
      "# Compute similarities (use fast_cosine_similarity)\n",
      "\n",
      "sims = {} # Should map record-ID-pairs to cosine similarity score\n",
      "\n",
      "for rec_pair in common_tokens.keys():\n",
      "    a = rec_pair[0]\n",
      "    g = rec_pair[1]\n",
      "    tokens = common_tokens[(a, g)]\n",
      "    sims[rec_pair] = fast_cosine_similarity(a, g, tokens)\n",
      "#print max(sims.values())\n",
      "#print sims.values()[0:50]"
     ],
     "language": "python",
     "metadata": {},
     "outputs": [
      {
       "output_type": "stream",
       "stream": "stdout",
       "text": [
        "[0.00021384792692692153, 9.235874039453725e-05, 5.3139619223408655e-06, 2.3032729906585946e-05, 1.8654439244035683e-06, 1.259990565399865e-05, 2.1302158681044857e-05, 0.00023658776346616221, 0.0006902969017447497, 4.172970323640217e-06, 0.0008955822964484205, 3.900503392505612e-05, 1.314845141116225e-06, 0.0004698386487798861, 5.7686602769427614e-08, 2.3530492877158995e-05, 2.9521122461026157e-06, 2.1351650898688148e-07, 3.5491143288279235e-07, 4.089428218449306e-06, 6.185002853602851e-06, 8.387693783382046e-07, 6.554809723787993e-05, 4.681316672956473e-05, 5.8159420706072786e-05, 0.0006210128515043337, 0.00028209500806607575, 3.075328871552995e-06, 4.200314268855346e-06, 6.346091356164995e-05, 0.0002596204384333902, 9.500017546710918e-06, 4.475952380811344e-06, 0.0011214793964268407, 0.004345698620353578, 0.0004705559890294673, 4.66083913388044e-05, 4.2341266067075715e-06, 3.422825378928194e-06, 8.409123204099011e-06, 2.595965435380163e-06, 9.172474413537719e-06, 7.544872679418371e-06, 2.507525650002557e-07, 2.931836367316827e-07, 0.0007725725495481957, 2.4598401979267548e-05, 3.973407016325417e-06, 0.0010454671824720008, 3.0278455297421897e-06]\n"
       ]
      }
     ],
     "prompt_number": 50
    },
    {
     "cell_type": "markdown",
     "metadata": {},
     "source": [
      "\n",
      "### Analysis\n",
      "\n",
      "Now we have an authoritative list of record-pair similarities, but we need a way to use those similarities to decide if two records are duplicates or not.\n",
      "The simplest approach is to pick a **threshold**.\n",
      "Pairs whose similarity is above the threshold are declared duplicates, and pairs below the threshold are declared distinct.\n",
      "\n",
      "To decide where to set the threshold we need to understand what kind of errors result at different levels.\n",
      "If we set the threshold too low, we get more **false positives**, that is, record-pairs we say are duplicates that in reality are not.\n",
      "If we set the threshold too high, we get more **false negatives**, that is, record-pairs that really are duplicates but that we miss.\n",
      "\n",
      "ER algorithms are evaluated by the common metrics of information retrieval and search called **precision** and **recall**.\n",
      "Precision asks of all the record-pairs marked duplicates, what fraction are true duplicates?\n",
      "Recall asks of all the true duplicates in the data, what fraction did we successfully find?\n",
      "As with false positives and false negatives, there is a trade-off between precision and recall.\n",
      "A third metric, called **F-measure**, takes the harmonic mean of precision and recall to measure overall goodness in a single value.:\n",
      "\n",
      "$$Fmeasure = 2 \\frac{precision * recall}{precision + recall}$$\n"
     ]
    },
    {
     "cell_type": "markdown",
     "metadata": {},
     "source": [
      "#### Exercise 5\n",
      "\n",
      "> **Note**: For this exercise, use the \"gold standard\" mapping from the included file to look up true duplicates, and the results of exercise 4.\n",
      "\n",
      "**a**. Implement functions to count true-positives (true duplicates above the threshold), and false-positives and -negatives.  HINT: To make your functions efficient, you should bin your counts by similarity range."
     ]
    },
    {
     "cell_type": "code",
     "collapsed": false,
     "input": [
      "# Look up all similarity scores for true duplicates\n",
      "keys = sims.keys()\n",
      "true_dup_sims = [] # TODO Build this\n",
      "for val in gold_standard:\n",
      "    if val in keys:\n",
      "        true_dup_sims.append(sims[(val[0], val[1])])\n",
      "    else:\n",
      "        true_dup_sims.append(0.0)\n",
      "#print max(true_dup_sims)\n",
      "#print len(true_dup_sims)\n",
      "# TODO Just compute true_dup_sim above\n",
      "def truepos(threshold):\n",
      "    return len(true_dup_sims) - falseneg(threshold)\n",
      "\n",
      "# Pre-bin counts of false positives by threshold range\n",
      "nthresholds = 100\n",
      "def bin(similarity):\n",
      "    return int(similarity * nthresholds)\n",
      "\n",
      "\n",
      "fp_counts = { } # TODO Build this.  Should map bin number to count of false-positives\n",
      "\n",
      "for key in keys:\n",
      "    similarity = sims[key]\n",
      "    if similarity not in true_dup_sims:\n",
      "        bucket = bin(similarity)\n",
      "        if bucket in fp_counts:\n",
      "            fp_counts[bucket] += 1\n",
      "        else:\n",
      "            fp_counts[bucket] = 1\n",
      "               \n",
      "print fp_counts\n",
      "\n",
      "            \n",
      "# TODO Implement this\n",
      "def falsepos(threshold):\n",
      "    threshold_bucket = bin(threshold)\n",
      "    total = 0\n",
      "    for bucket in fp_counts:\n",
      "        if bucket >= threshold_bucket:\n",
      "            total += fp_counts[bucket]\n",
      "    return total\n",
      "\n",
      "# TODO Implement this\n",
      "def falseneg(threshold):\n",
      "    threshold_bucket = bin(threshold)\n",
      "    negatives = 0\n",
      "    for sim in true_dup_sims:\n",
      "        true_pos = bin(sim)\n",
      "        if true_pos < threshold_bucket:\n",
      "            negatives += 1\n",
      "    return negatives\n",
      "\n",
      "print falseneg(0.95)\n",
      "print falsepos(0.95)\n",
      "print len(true_dup_sims)"
     ],
     "language": "python",
     "metadata": {},
     "outputs": [
      {
       "output_type": "stream",
       "stream": "stdout",
       "text": [
        "{0: 2857981, 1: 11254, 2: 4003, 3: 2022, 4: 1229, 5: 788, 6: 577, 7: 423, 8: 360, 9: 262, 10: 208, 11: 179, 12: 163, 13: 133, 14: 124, 15: 85, 16: 74, 17: 73, 18: 53, 19: 67, 20: 63, 21: 54, 22: 49, 23: 39, 24: 26, 25: 28, 26: 17, 27: 26, 28: 24, 29: 28, 30: 27, 31: 21, 32: 20, 33: 17, 34: 16, 35: 12, 36: 12, 37: 13, 38: 14, 39: 16, 40: 14, 41: 15, 42: 13, 43: 8, 44: 11, 45: 11, 46: 14, 47: 11, 48: 12, 49: 5, 50: 8, 51: 3, 52: 4, 53: 3, 54: 3, 55: 1, 57: 9, 58: 4, 59: 4, 60: 8, 61: 2, 62: 1, 63: 1, 64: 6, 65: 3, 66: 7, 67: 3, 68: 3, 69: 6, 70: 3, 71: 4, 72: 6, 73: 1, 74: 2, 75: 1, 76: 4, 77: 1, 78: 2, 80: 2, 82: 2, 83: 2, 84: 1, 85: 3, 87: 1, 88: 2, 89: 1, 90: 1, 91: 1, 92: 1, 93: 2, 94: 3, 95: 1, 96: 2, 97: 2, 98: 3, 99: 4}\n",
        "1279\n",
        "12\n",
        "1300\n"
       ]
      }
     ],
     "prompt_number": 52
    },
    {
     "cell_type": "markdown",
     "metadata": {},
     "source": [
      "**b**. What is the relationship between false-positives and -negatives (and true-positives and -negatives) on the one hand and precision and recall on the other?\n",
      "Use the functions from part **a** to implement functions to compute precision, recall, F-measure as a function of threshold value."
     ]
    },
    {
     "cell_type": "code",
     "collapsed": false,
     "input": [
      "# TODO Implement this (returns a float)\n",
      "def precision(threshold):\n",
      "    true_pos = truepos(threshold)\n",
      "    return true_pos / float(falsepos(threshold) + true_pos)\n",
      "\n",
      "# TODO Implement this (returns a float)\n",
      "def recall(threshold):\n",
      "    return truepos(threshold) / float(len(true_dup_sims))\n",
      "\n",
      "# TODO Implement this (returns a float)\n",
      "def fmeasure(threshold):\n",
      "    p = precision(threshold)\n",
      "    r = recall(threshold)\n",
      "    return 2 * (( p * r ) /  ( p + r ))\n",
      "    "
     ],
     "language": "python",
     "metadata": {},
     "outputs": [],
     "prompt_number": 29
    },
    {
     "cell_type": "markdown",
     "metadata": {},
     "source": [
      "**c**. Make line plots of precision, recall, and F-measure as a function of threshold value, for thresholds between 0.0 and 1.0.  You can change `nthresholds` (above in part **a**) to change threshold values to plot."
     ]
    },
    {
     "cell_type": "code",
     "collapsed": false,
     "input": [
      "# For the x-axis\n",
      "thresholds = [float(n) / nthresholds for n in range(0, nthresholds)]\n",
      "precisions = [precision(t) for t in thresholds]\n",
      "recalls = [recall(t) for t in thresholds]\n",
      "fmeasures = [fmeasure(t) for t in thresholds]\n",
      "\n",
      "pylab.plot(thresholds, precisions, label='Precision')\n",
      "pylab.plot(thresholds, recalls, label='Recall')\n",
      "pylab.plot(thresholds, fmeasures, label='Fmeasures')\n",
      "pylab.legend(loc='upper right')\n",
      "pylab.ylim(0.0, 1.0)\n",
      "pylab.xlim(0.0, 1.0)\n",
      "pylab.xlabel('Thresholds')\n",
      "pylab.ylabel('Ratios')\n",
      "pylab.title('Plots')\n",
      "\n",
      "\n",
      "\n",
      "# TODO Make a plot.  HINT: Use pylab.plot().  Don't forget labels."
     ],
     "language": "python",
     "metadata": {},
     "outputs": [
      {
       "metadata": {},
       "output_type": "pyout",
       "prompt_number": 30,
       "text": [
        "<matplotlib.text.Text at 0x1b24956c>"
       ]
      },
      {
       "metadata": {},
       "output_type": "display_data",
       "png": "[encoded data removed]",
       "text": [
        "<matplotlib.figure.Figure at 0x1b23342c>"
       ]
      }
     ],
     "prompt_number": 30
    },
    {
     "cell_type": "markdown",
     "metadata": {},
     "source": [
      "**d**. Using the plot, pick the optimal threshold value and argue for why it is optimal.\n",
      "If false-positives are considered much worse than false-negatives, how does that change your answer?\n"
     ]
    },
    {
     "cell_type": "markdown",
     "metadata": {},
     "source": [
      "> TODO Answer questions\n",
      "\n",
      "> 0.2 is optimal. It maximizes precision and recall as indicated by the maximization of Fmeasures. If false positives are considered much worse than false negatives, then the threshold should shift higher to compensate. As the threshold is shifted higher, we can expect more false negatives and less false positives"
     ]
    },
    {
     "cell_type": "markdown",
     "metadata": {},
     "source": [
      "**e**.  State-of-the-art tools can get an F-measure of about 60% on this data set.\n",
      "In this assignment we expect to get an F-measure closer to 40%.\n",
      "Look at some examples of errors (both false-positives and -negatives) and think about what went wrong.\n",
      "What are some ways we might improve our simple classifier?\n",
      "Back up your ideas with examples as much as possible."
     ]
    },
    {
     "cell_type": "markdown",
     "metadata": {},
     "source": [
      "> TODO Answer questions\n",
      "\n",
      "> To get a higher F-measure, we want to minimize the number of false-positives and false-negatives. One possible solution is to prune our simmilarities dictionary to not account for false positives. Since we are given which similarities are part of the true perfect mapping, we can prune out values that are needed. In practice, we would probably not be given these perfect matchings. In this case, the first step we could take is to remove more common words using the IDF weights. This would increase accuracy since documents that aren't truly matched would seem less like each other thereby decreasing false-positives. Furthermore, you could increase the weights on more rare words. Rather than linearly increasing the weights with regard to frequency, you could make the scale exponential. This has the same effect as those with more rare words would stand out more in the matchings. In this example one has tokens [kaplan sat/act/psat platinum 2007...] the other has tokens [kaplan act/sat/psat gold 2007..]. Using our domain knowledge that Gold and platinum is a different product, downweighting this pairs' score makes sense. The same logic can be applied to titles and years."
     ]
    }
   ],
   "metadata": {}
  }
 ]
}