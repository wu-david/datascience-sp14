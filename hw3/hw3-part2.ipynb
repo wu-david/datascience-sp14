{
 "metadata": {
  "name": "hw3-part2"
 },
 "nbformat": 3,
 "nbformat_minor": 0,
 "worksheets": [
  {
   "cells": [
    {
     "cell_type": "markdown",
     "metadata": {},
     "source": "CS194-16: Introduction to Data Science\n\n__Name:__ *David Wu*\n\n__Student ID:__ *22934420*"
    },
    {
     "cell_type": "markdown",
     "metadata": {},
     "source": "# Homework 3\n\n# Part 2: Predicting Movie Ratings At Scale\n\nIn the first part of this assignment, you explored how to recommend movies to a user using a small version of the movies and ratings datasets.  In this part of the assignment, you'll first explore how to tune the parallelism of an application running on a cluster.  Then, you'll use your findings to run your code from the first part on a cluster of machines and using a larger dataset.  You'll use the cluster and larger dataset to predict what movies to recommend to yourself.  For many parts of this assignment, you should be able to use the exact code that you wrote in part 1!\n\nAs mentioned during the lab and in part 1, think carefully before calling `collect()` on any datasets.  When you're using a small, local dataset, calling `collect()` and then using Python to analyze the data locally will work fine, but this will not work when you're using a large dataset that doesn't fit in memory on one machine.  Solutions that call `collect()` and do local analysis that could have been done with Spark will not receive full credit.\n\nAs in the first part, we have created a [FAQ](#FAQ) at the bottom of this page to help with common problems you run into.  If you run into a problem, please check the FAQ before posting on Piazza!"
    },
    {
     "cell_type": "markdown",
     "metadata": {},
     "source": "## Exercise 0: Setup\n\nAs in the lab (and unlike part 1 of the homework), we've already created a `SparkContext` for you that's available with the `sc` variable name.  The code below prints out the URLs of the master UI and the UI for your application."
    },
    {
     "cell_type": "code",
     "collapsed": false,
     "input": "# We've setup the notebook so that the hostname of the master is saved\n# as CLUSTER_URL.\nmaster_ui_address = \"\".join(CLUSTER_URL.split(\"//\")[1].split(\":\")[0])\nprint \"Master UI located at http://%s:8080\" % master_ui_address\n\napplication_ui_address = \"http://\" + sc.appName + \":4040\"\nprint \"Application UI located at %s\" % application_ui_address",
     "language": "python",
     "metadata": {},
     "outputs": [
      {
       "output_type": "stream",
       "stream": "stdout",
       "text": "Master UI located at http://ec2-54-85-120-154.compute-1.amazonaws.com:8080\nApplication UI located at http://ec2-54-86-76-80.compute-1.amazonaws.com:4040\n"
      }
     ],
     "prompt_number": 1
    },
    {
     "cell_type": "markdown",
     "metadata": {},
     "source": "a) Use the `SparkContext` to create an RDD for each of the ratings and movies datasets, which are located at `/movielens/large/ratings.dat` and `/movielens/large/movies.dat`, respectively (as in the lab).  Recall that each entry in the ratings dataset is formatted as UserID::MovieID::Rating::Timestamp and each entry in the movies dataset is formatted as MovieID::Title::Genres.  Count the entries in each dataset to ensure you've correctly created the RDD; there should be 10000054 entries in the ratings dataset and 10681 entries in the movies dataset."
    },
    {
     "cell_type": "code",
     "collapsed": false,
     "input": "# UserID, MovieID, Rating, Timestamp\ndef get_ratings(entry):\n    items = entry.split(\"::\")\n    return int(items[0]), int(items[1]), float(items[2]), int(items[3])\n# MovieID, Title, Genres\ndef get_movies(entry):\n    items = entry.split(\"::\")\n    return int(items[0]), items[1], items[2]\n\nratings = sc.textFile('/movielens/large/ratings.dat', 6).map(get_ratings) # YOUR CODE HERE\nmovies = sc.textFile('/movielens/large/movies.dat', 6).map(get_movies) # YOUR CODE HERE\n\nratings.cache()\n\nratings_count = ratings.count()\nmovies_count = movies.count()\nprint \"%s ratings and %s movies in the datasets\" % (ratings_count, movies_count)",
     "language": "python",
     "metadata": {},
     "outputs": [
      {
       "output_type": "stream",
       "stream": "stdout",
       "text": "10000054 ratings and 10681 movies in the datasets\n"
      }
     ],
     "prompt_number": 2
    },
    {
     "cell_type": "markdown",
     "metadata": {},
     "source": "b) As you did in part 1, use the least significant digit of the rating timestamp to separate 60% of the data into a training set, 20% into a validation set, and the remaining 20% into a test set."
    },
    {
     "cell_type": "code",
     "collapsed": false,
     "input": "### YOUR CODE HERE\n\n# UserID, MovieID, Rating, Timestamp % 10\ndef least_sig_time(entry):\n    return entry[0], entry[1], entry[2], entry[3]%10\n    \ntraining = ratings.map(least_sig_time).filter(lambda x: x[3] < 6).map(lambda x: (x[0],x[1],x[2])) # YOUR CODE HERE \nvalidation = ratings.map(least_sig_time).filter(lambda x: (x[3] >= 6) & (x[3] < 8)).map(lambda x: (x[0],x[1],x[2])) # YOUR CODE HERE\ntest = ratings.map(least_sig_time).filter(lambda x: x[3] >= 8).map(lambda x: (x[0],x[1],x[2])) # YOUR CODE HERE\n\nprint \"Training: %s, validation: %s, test: %s\" % (training.count(), validation.count(), test.count())",
     "language": "python",
     "metadata": {},
     "outputs": [
      {
       "output_type": "stream",
       "stream": "stdout",
       "text": "Training: 6002473, validation: 1999675, test: 1997906\n"
      }
     ],
     "prompt_number": 3
    },
    {
     "cell_type": "markdown",
     "metadata": {},
     "source": "Now the datasets are 10x bigger, so the training set should have about 6 million entries, the validation set should have about 2 million entries, and the test set should have about 2 million entries."
    },
    {
     "cell_type": "markdown",
     "metadata": {},
     "source": "## Exercise 1: Understanding Parallelism\n\nBefore analyzing the movies datasets at scale, let's learn a little about how to optimize the performance.  In the lab, we saw that the number of partitions that a dataset is broken into can have a big affect on the response time of jobs run on that dataset.  In this part of the assignment, you'll determine the optimal number of partitions to break datasets into.\n\na) In the next part of this exercise, you'll break the ratings dataset into different numbers of partitions, and then call `count()`.  First, answer some questions to understand how this will work.\n\n> __How does the number of tasks relate to the number of partitions?__ *The number of tasks and number of partitions are directly proportional to each other*\n\nb)\n> __When you call `count()`, what does each task do?__ *Each task counts the number of ratings or movies in its partition*\n\nc)\n> __How do you expect the time to count the entries in the `ratings` dataset to vary with the number of partitions?__ *The time to count the entries in the `ratings` dataset should decrease as the number of partitions split more evenly across the number of executors we have. (In this case 6)*"
    },
    {
     "cell_type": "markdown",
     "metadata": {},
     "source": "d) Create an RDD for the `ratings` dataset with different numbers of partitions, and call `count()` on the resulting datasets.  Using Spark and [matplotlib](http://matplotlib.org/index.html), make a graph showing the response time of `count()` as a function of the number of partitions.  You're responsible for choosing the number of partitions to use to produce a meaningful graph of how `count()`'s runtime depends on the number of partitions. \n\n`sc.textFile` will never allow you to use fewer than 2 partitions for the `ratings` dataset, even if you pass 1 as the number of partitions.  This is because the underlying dataset is stored in HDFS (Hadoop Distributed Filesystem) as two files.  As a result, you don't need to measure the time for `count()` using just 1 partition."
    },
    {
     "cell_type": "code",
     "collapsed": false,
     "input": "import matplotlib.pyplot as plot\n\n# Magic command to make matplotlib and ipython play nicely together.\n%matplotlib inline\n\n### YOUR CODE HERE\nimport time\ndef get_count_time(partitions):\n    tmp = sc.textFile('/movielens/large/ratings.dat', partitions)\n    initial = time.time()\n    count = tmp.count()\n    diff = time.time() - initial\n    return diff\n\ntimes = [get_count_time(t) for t in range(2, 13)]\n\nplot.bar(range(2,13), times, align='center')",
     "language": "python",
     "metadata": {},
     "outputs": [
      {
       "metadata": {},
       "output_type": "pyout",
       "prompt_number": 4,
       "text": "<Container object of 11 artists>"
      },
      {
       "metadata": {},
       "output_type": "display_data",
       "png": "[encoded data removed]",
       "text": "<matplotlib.figure.Figure at 0x2df9d10>"
      }
     ],
     "prompt_number": 4
    },
    {
     "cell_type": "markdown",
     "metadata": {},
     "source": "e)\n>__Explain the shape of the plot.  How does this differ from the hypothesis you provided in part (a)?  Can you explain the difference?__ *The shape of the plot is as expected. The plot further shows that the more evenly you split the partitions, you get better and better results.*\n\nf)\n>__What is the optimal number of partitions for this dataset and why?__ *6 (or any multiple of 6) since it most evenly divides across the executors*"
    },
    {
     "cell_type": "markdown",
     "metadata": {},
     "source": "## Exercise 2: Adding Your Rankings\n\nThe ultimate goal of this assignment is to predict what movies to recommend to yourself.  In order to do that, you'll first need to add ratings for yourself to the `ratings` dataset.\n\na) First, generate a unique user ID for yourself.  Find the highest user ID in the `ratings` dataset and use 1 + this ID as your user ID. "
    },
    {
     "cell_type": "code",
     "collapsed": false,
     "input": "highest_existing_user_id = ratings.map(lambda x: x[0]).reduce(max) # YOUR CODE HERE\n\nmy_user_id = highest_existing_user_id + 1\nprint \"My user ID is %s\" % my_user_id",
     "language": "python",
     "metadata": {},
     "outputs": [
      {
       "output_type": "stream",
       "stream": "stdout",
       "text": "My user ID is 71568\n"
      }
     ],
     "prompt_number": 5
    },
    {
     "cell_type": "markdown",
     "metadata": {},
     "source": "b) Next, you need to create a RDD with some ratings for yourself.  Create a new RDD `my_ratings_RDD` with at least 10 movie ratings.  Each entry should be formatted as `(my_user_id, movieID, rating)` (i.e., each entry should be formatted in the same way as the `training` RDD).  As in the original dataset, ratings should be between 1 and 5 (inclusive).\n\nTo help you provide ratings for yourself, we've included some code below to list the names and movie IDs of the 50 most-rated movies (we did this in the lab; the code below is replicated from the lab).  Select 10 movies that you've seen from this list and use those (along with your own ratings for those movies) to produce the `my_ratings_RDD`.  If you haven't seen at least 10 of these movies, you can increase the parameter passed to `take()` until there are 10 movies that you have seen (or you can also guess what your rating would be for movies you haven't seen)."
    },
    {
     "cell_type": "code",
     "collapsed": false,
     "input": "# Create a dataset of (movieID, number of ratings) pairs.\nratings_per_movie = ratings.map(lambda x: (x[1], 1)).reduceByKey(lambda x,y: x+y)\n\n# Join average_ratings with movies to get a dataset with movie names and average ratings.\nratings_with_names = movies.map(lambda x: (x[0], x[1])).join(ratings_per_movie)\n\n# map transforms ratings_with_names into an RDD where the key is the number of ratings\n# and the value is a 2-item tuple with (movie name, movieID). We reformat the\n# dataset in this way so that we can use sortByKey to get the most-rated movies.\nsorted_ratings = ratings_with_names.map(lambda x: (x[1][1], (x[1][0], x[0]))).sortByKey(False)\nprint \"Most rated movies:\"\nfor ratings_tuple in sorted_ratings.take(50):\n    print ratings_tuple",
     "language": "python",
     "metadata": {},
     "outputs": [
      {
       "output_type": "stream",
       "stream": "stdout",
       "text": "Most rated movies:\n(34864, (u'Pulp Fiction (1994)', 296))"
      },
      {
       "output_type": "stream",
       "stream": "stdout",
       "text": "\n(34457, (u'Forrest Gump (1994)', 356))\n(33668, (u'Silence of the Lambs, The (1991)', 593))\n(32631, (u'Jurassic Park (1993)', 480))\n(31126, (u'Shawshank Redemption, The (1994)', 318))\n(29154, (u'Braveheart (1995)', 110))\n(28951, (u'Fugitive, The (1993)', 457))\n(28948, (u'Terminator 2: Judgment Day (1991)', 589))\n(28566, (u'Star Wars: Episode IV - A New Hope (a.k.a. Star Wars) (1977)', 260))\n(27035, (u'Apollo 13 (1995)', 150))\n(26996, (u'Batman (1989)', 592))\n(26449, (u'Toy Story (1995)', 1))\n(26042, (u'Independence Day (a.k.a. ID4) (1996)', 780))\n(25912, (u'Dances with Wolves (1990)', 590))\n(25777, (u\"Schindler's List (1993)\", 527))\n(25381, (u'True Lies (1994)', 380))\n(25098, (u'Star Wars: Episode VI - Return of the Jedi (1983)', 1210))\n(24397, (u'12 Monkeys (Twelve Monkeys) (1995)', 32))\n(24037, (u'Usual Suspects, The (1995)', 50))\n(23794, (u'Fargo (1996)', 608))\n(23748, (u'Speed (1994)', 377))\n(23531, (u'Aladdin (1992)', 588))\n(23229, (u'Matrix, The (1999)', 2571))\n(23091, (u'Star Wars: Episode V - The Empire Strikes Back (1980)', 1196))\n(22521, (u'Seven (a.k.a. Se7en) (1995)', 47))\n(22120, (u'American Beauty (1999)', 2858))\n(21803, (u'Raiders of the Lost Ark (Indiana Jones and the Raiders of the Lost Ark) (1981)', 1198))\n(21247, (u'Back to the Future (1985)', 1270))\n(21085, (u'Mission: Impossible (1996)', 648))\n(21014, (u'Ace Ventura: Pet Detective (1994)', 344))\n(20972, (u'Lion King, The (1994)', 364))\n(19878, (u'Beauty and the Beast (1991)', 595))\n(19814, (u'Godfather, The (1972)', 858))\n(19603, (u'Die Hard: With a Vengeance (1995)', 165))\n(19400, (u'Sixth Sense, The (1999)', 2762))\n(19326, (u'Batman Forever (1995)', 153))\n(19229, (u'Pretty Woman (1990)', 597))\n(19214, (u'Mrs. Doubtfire (1993)', 500))\n(19036, (u'Mask, The (1994)', 367))\n(18925, (u'Stargate (1994)', 316))\n(18924, (u'Saving Private Ryan (1998)', 2028))\n(18900, (u'Babe (1995)', 34))\n(18801, (u'Twister (1996)', 736))\n(18523, (u'Men in Black (1997)', 1580))\n(18327, (u'Clear and Present Danger (1994)', 349))\n(17964, (u'Rock, The (1996)', 733))\n(17851, (u'Dumb & Dumber (1994)', 231))\n(17611, (u'E.T. the Extra-Terrestrial (1982)', 1097))\n(17519, (u'Terminator, The (1984)', 1240))\n(17194, (u'Ghost (1990)', 587))\n"
      }
     ],
     "prompt_number": 6
    },
    {
     "cell_type": "code",
     "collapsed": false,
     "input": "my_ratings = [(71568, 296, 5),\n              (71568, 356, 4),\n              (71568, 593, 3),\n              (71568, 480, 3),\n              (71568, 318, 4),\n              (71568, 110, 4),\n              (71568, 260, 5),\n              (71568, 1, 5),\n              (71568, 590, 4),\n              (71568, 364, 5)]\nmy_ratings_RDD = sc.parallelize(my_ratings) # YOUR CODE HERE\n\n# Remember that in general, you shouldn't use collect()!\n# We use collect here because we know that the RDD with your\n# ratings is small.\nprint \"My movie ratings: \", my_ratings_RDD.collect()",
     "language": "python",
     "metadata": {},
     "outputs": [
      {
       "output_type": "stream",
       "stream": "stdout",
       "text": "My movie ratings:  "
      },
      {
       "output_type": "stream",
       "stream": "stdout",
       "text": "[(71568, 296, 5), (71568, 356, 4), (71568, 593, 3), (71568, 480, 3), (71568, 318, 4), (71568, 110, 4), (71568, 260, 5), (71568, 1, 5), (71568, 590, 4), (71568, 364, 5)]\n"
      }
     ],
     "prompt_number": 7
    },
    {
     "cell_type": "markdown",
     "metadata": {},
     "source": "c) Now that you have ratings for yourself, you need to add your ratings to the `training` dataset so that the model you train will incorporate your preferences.  Spark's `union` method combines two RDDs (see documentation [here](http://spark.apache.org/docs/0.9.0/api/pyspark/pyspark.rdd.RDD-class.html#union)); use `union` to create a new training dataset that includes your ratings and the data in the original training dataset."
    },
    {
     "cell_type": "code",
     "collapsed": false,
     "input": "training_with_my_ratings = training.union(my_ratings_RDD)# YOUR CODE HERE\n\nprint (\"The training dataset now has %s more entries than the original training dataset\" % \n       (training_with_my_ratings.count() - training.count()))",
     "language": "python",
     "metadata": {},
     "outputs": [
      {
       "output_type": "stream",
       "stream": "stdout",
       "text": "The training dataset now has 10 more entries than the original training dataset\n"
      }
     ],
     "prompt_number": 8
    },
    {
     "cell_type": "markdown",
     "metadata": {},
     "source": "The new training dataset should have at least 10 more entries than it had originally."
    },
    {
     "cell_type": "markdown",
     "metadata": {},
     "source": "## Exercise 3: Building a Model\n\na) In this exercise, you'll run your code from part 1 on the larger dataset.  First, we need to think a bit more carefully about how we do things to ensure using the larger dataset doesn't take too long on the cluster.  Use Spark's `repartition(numPartitions)` function (which re-partitions the dataset into the specified number of partitions) to break the `test`, `training_with_my_ratings`, and `validation` datasets into the optimal number of partitions that you found in part 1."
    },
    {
     "cell_type": "code",
     "collapsed": false,
     "input": "### YOUR CODE HERE\ntest = test.repartition(6)\ntraining_with_my_ratings = training_with_my_ratings.repartition(6)\nvalidation = validation.repartition(6)",
     "language": "python",
     "metadata": {},
     "outputs": [],
     "prompt_number": 9
    },
    {
     "cell_type": "markdown",
     "metadata": {},
     "source": "b) As you did in part 1, train models with ranks of 4, 8, 12, and 16 using the `training_with_my_ratings` dataset (remember that you should use this dataset, which includes your `ratings`, instead of the original `training` dataset). Predict the ratings for the `validation` dataset, and use the `compute_error` function you wrote in part 1 to compute the error.  Which rank produces the best model, based on the error on the `validation` dataset?\n\nNow that you're running on a cluster, you'll want to think carefully about what datasets you cache in memory.  Remember that Spark only saves datasets in memory if you explicitly call `cache()` on the dataset, like we did in the lab.  You can use Spark's UI (located at port 4040 on the machine where this notebook is running) to see what datasets are cached in memory (you may want to use the `setName()` function to set a name for RDDs so they can easily be identified in the UI).  If you accidentally cache a dataset that you don't need, you can call `unpersist()` on the RDD to drop it from the cache."
    },
    {
     "cell_type": "code",
     "collapsed": false,
     "input": "from pyspark.mllib.recommendation import ALS\nimport math\ndef compute_error(predicted, actual):\n    \"\"\" Compute the root mean squared error between predicted and actual.\n    \n    Params:\n      predicted: An RDD of predicted ratings for each movie and each user where each entry is in the form (user, movie, rating).\n      actual: An RDD of actual ratings where each entry is in the form (user, movie, rating).\n    \"\"\"\n    ### YOUR CODE HERE\n    # set (user, movie) as key; rating as value\n    predict = predicted.map(lambda x: ((x[0], x[1]), x[2]))\n    act = actual.map(lambda x: ((x[0], x[1]), x[2]))\n    # join predicted and actual to filter out those predicted not in actual\n    # find (actual rating - predicted rating)^2 for each found\n    found = predict.join(act).mapValues(lambda x: math.pow((x[0]-x[1]),2))\n    \n    # get sqrt(average)\n    root_mean = math.sqrt(found.map(lambda x: x[1]).reduce(lambda x,y: x+y) / found.count())\n    return root_mean\n\ntraining_with_my_ratings.cache()\nmodel_4 = ALS.train(training_with_my_ratings, 4)\nmodel_8 = ALS.train(training_with_my_ratings, 8)\nmodel_12 = ALS.train(training_with_my_ratings, 12)\nmodel_16 = ALS.train(training_with_my_ratings, 16)\ntraining_with_my_ratings.unpersist()\nvalidation.cache()\npredict_4 = model_4.predictAll(validation.map(lambda x: (x[0], x[1])))\npredict_8 = model_8.predictAll(validation.map(lambda x: (x[0], x[1])))\npredict_12 = model_12.predictAll(validation.map(lambda x: (x[0], x[1])))\npredict_16 = model_16.predictAll(validation.map(lambda x: (x[0], x[1])))\n\nrank_4 = compute_error(predict_4, validation)\nrank_8 = compute_error(predict_8, validation)\nrank_12 = compute_error(predict_12, validation)\nrank_16 = compute_error(predict_16, validation)\nvalidation.unpersist()\n\nd = {4:rank_4, 8:rank_8, 12:rank_12, 16:rank_16}\nbest_rank = min(d, key=d.get) # YOUR CODE HERE\n\n\nprint \"The best model was trained with rank %s\" % best_rank",
     "language": "python",
     "metadata": {},
     "outputs": [
      {
       "output_type": "stream",
       "stream": "stdout",
       "text": "The best model was trained with rank 4\n"
      }
     ],
     "prompt_number": 10
    },
    {
     "cell_type": "markdown",
     "metadata": {},
     "source": "c) \n> __Which datasets did you decide to cache in memory and why?__ I cached training_with_my_ratings and validation since I would be training with the former and calling predictAll on the latter. Both operations require using the two datasets frequently."
    },
    {
     "cell_type": "markdown",
     "metadata": {},
     "source": "d) Like you did in part 1, use the best model to predict the ratings on the `test` dataset, and compute the RMSE."
    },
    {
     "cell_type": "code",
     "collapsed": false,
     "input": "test.cache()\ntest_rmse = compute_error(model_4.predictAll(test.map(lambda x: (x[0], x[1]))), test)# YOUR CODE HERE\ntest.unpersist()\nprint \"The model had a RMSE on the test set of %s\" % test_rmse",
     "language": "python",
     "metadata": {},
     "outputs": [
      {
       "output_type": "stream",
       "stream": "stdout",
       "text": "The model had a RMSE on the test set of 0.873641360832\n"
      }
     ],
     "prompt_number": 11
    },
    {
     "cell_type": "markdown",
     "metadata": {},
     "source": "e) Our solution code for part 1 got a RMSE of about 1.1 (subject to a small amount of variance, due to randomness in the ALS implementation) on the test set (you may want to use this to verify that your part 1 code was correct!).  How does this compare to the RMSE you got here?\n\n>__Is the test RMSE larger, smaller, or about the same as the RMSE (about 1.1) from part 1?  Why?__ The test RMSE is smaller than the RMSE from part 1. You can expect this since we trained with a much larger dataset so the model is probably more accurate."
    },
    {
     "cell_type": "markdown",
     "metadata": {},
     "source": "## Exercise 4: Recommending Movies for Yourself\n\na) So far, we've only used the `predictAll` method to compute the error of the model.  Here, use the `predictAll` to predict what ratings you'd give to the movies that you didn't already provide ratings for. Print out the 10 movies with the highest predicted ratings."
    },
    {
     "cell_type": "code",
     "collapsed": false,
     "input": "my_rated_movies = my_ratings_RDD.map(lambda x: x[1]).collect()\n\npredicted = model_4.predictAll(ratings.map(lambda x: (x[0], x[1])).filter(lambda x: x[1] not in my_rated_movies))\n\n# (movieID, rating)\nnew_ratings = predicted.map(lambda x: (x[1], x[2]))\n# (movieID, title)\ntmp = movies.map(lambda x: (x[0], x[1]))\n# (movieID, average_rating*log(num_ratings))\naverage_ratings = new_ratings.groupByKey().mapValues(lambda x: (sum(x)/len(x))*math.log(len(x)))\n# (movieID, (average_rating*log(num_ratings), title)) --> (average_rating*log(num_ratings), title)\njoined = average_ratings.join(tmp).map(lambda x: (x[1][0], x[1][1]))\n\npredicted_10_highest_rated_movies = [(v, k) for k, v in joined.top(10)] # YOUR CODE HERE\n\n# This should print a list of 10 movie names and the associated\n# predicted ratings.\nprint \"My highest rated movies: \", predicted_10_highest_rated_movies",
     "language": "python",
     "metadata": {},
     "outputs": [
      {
       "output_type": "stream",
       "stream": "stdout",
       "text": "My highest rated movies:  [(u\"Schindler's List (1993)\", 44.104698040679985), (u'Usual Suspects, The (1995)', 43.805030170334561), (u'Godfather, The (1972)', 43.481922655999945), (u'Raiders of the Lost Ark (Indiana Jones and the Raiders of the Lost Ark) (1981)', 42.383310720226191), (u'Matrix, The (1999)', 42.113220708350568), (u'Star Wars: Episode V - The Empire Strikes Back (1980)', 42.019881383334869), (u'American Beauty (1999)', 41.741796669779639), (u'Fargo (1996)', 41.574396036489318), (u'Fugitive, The (1993)', 41.013289500877825), (u\"One Flew Over the Cuckoo's Nest (1975)\", 40.904386956677897)]\n"
      }
     ],
     "prompt_number": 12
    },
    {
     "cell_type": "markdown",
     "metadata": {},
     "source": "b)\n> __Are the predictions any good?  Do you think (or know!) you'd like these movies?__ The predictions seem good. I recognize all the movies and they have high ratings on IMDb."
    },
    {
     "cell_type": "markdown",
     "metadata": {},
     "source": "## Wrapping Up\n\nPlease answer the questions in [this form](https://docs.google.com/a/berkeley.edu/forms/d/15i39zp0awFpNE36ljh58mctJ-PhDir0roS4VfPJHPvw/viewform) to help us improve the assignments for this class in the future.\n\n<p style=\"background-color: #f2dede; padding: 10px 15px; color: #b94a48;\">__Don't forget to submit your assignment using glookup!__ We will not automatically collect the notebooks on the cluster; you need to copy the notebook back to your local machine and submit it yourself when you're finished with the homework.  To save your iPython notebook to your machine from the cluster, go to \"File\" > \"Download as\" > \"iPython\".</p>"
    },
    {
     "cell_type": "markdown",
     "metadata": {},
     "source": "<a name=\"FAQ\"></a>\n## Frequently Asked Questions\n\n### How do I save my iPython notebook that's hosted in the cluster?\n\nGo to \"File\" > \"Download as\" > \"iPython\".\n\n### How do I get to the UI?\n\nThe UI for the Spark master is on port 8080, and the hostname is stored as part of the `CLUSTER_URL` variable pre-loaded into this notebook.  From the master UI, you can find the link to your application's UI.\n\n### What are all of the operations I can do on a Spark dataset (RDD)?\n\n[This Page](http://spark.apache.org/docs/0.9.0/api/pyspark/pyspark.rdd.RDD-class.html) lists all of the operations you can do on a Spark RDD.  Spark also has a Scala API (Scala is a programming language similar to Java); the [documentation for the Scala functions](http://spark.apache.org/docs/0.9.0/scala-programming-guide.html) is sometimes more helpful, and the Python functions work in the same way.\n\n### How do I use matplotlib?\n\nThere are lots of good examples on the [matplotlib website](http://matplotlib.org/index.html).  For example, [this page](http://matplotlib.org/examples/pylab_examples/simple_plot.html) shows how to plot a single line.\n\n### Why am I getting an OutOfMemoryError?\n\nIf you get an error that looks like: `org.apache.spark.SparkException: Job aborted: Exception while deserializing and fetching task: java.lang.OutOfMemoryError: Java heap space`, it probably means that you've tried to collect too much data on the machine where Python is running.  This is likely to happen if you do `collect()` on a large dataset.  To remedy this problem, you'll need to restart your iPython notebook (go to the main server, at port 8888 of the machine you were assigned, click \"Shutdown\" on your notebook, and then open it again) and don't do `collect()` on a large dataset.\n\nCurious why you're getting a Java error when your program is written in Python?  Spark is mostly written in Java (and Scala, a language built on top of Java).  We're using `pyspark` here, which uses a translation layer to translate between Python and Java.  Your Python `SparkContext` object is backed by a Java `SparkContext` object; all operations you run on Spark datasets are passsed through this Java object.  So, if you try to collect a result that's too large, the Java Virtual Machine that's running the Java `SparkContext` runs out of memory.\n\n### Python / Spark is giving me a crazy weird error!\n\nSpark is mostly written in Scala and Java, and the Python version of the code (\"pyspark\") hooks into the Java implementation in a way that can make error messages very difficult to understand.  If you get a hard-to-understand error when you run a Spark operation, we recommend first narrowing down the error so that you know exactly which operation caused the error.  For example, if `rdd.groupByKey().map(lambda x: x[1])` fails with an error, separate the `groupByKey()` and `map()` calls onto separate lines so you know which one is causing the error.  Next, double check the function signature to make sure you're passing the right arguments.  Pyspark can fail with a weird error if a RDD operation is given the wrong number or type of arguments.  If you're still stumped, try using `take(10)` to print out the first 10 entries in the dataset you're calling the RDD operation on.  Make sure the function you're calling and the arguments you're passing in make sense given the format of the input dataset.\n\n### I ran some code and nothing happened!\n\nAre you sure?  Some of the Spark operations will take a minute or so to run; look at the top of the iPython notebook to see if it says \"Kernel busy\".  If so, it's busy running your code.  Go checkout the Spark UI to see more about what's going on.\n\n<a name=\"faq_taking_forever\"></a>\n### My code is taking forever to run.  Did I do something wrong?\n\nYes.  In our solution code, none of the Spark stages take more than about a minute to run (remember that you can see a job's stages by looking at the Spark UI).  If you ran something and it's taking forever, double check that you passed in the datasets you inteded to.  One common problem from part 1 was that people passed RDDs in the wrong format (e.g., with 3 items instead of just a key and a value) to `join`.  Use `take()` to look at the datasets passed into the offending function to make sure they're in the right format.\n\nIf you end up with a job that's taking forever, you'll need to kill the job; otherwise it will hog all of your cluster resources such that you won't be able to run anything else.  Kill the job by shutting down this notebook (which will destroy your `SparkContext` and the associated worker process that's doing work) and then re-launching it.  You can shutdown your notebook by going to \"File\" > \"Close and Halt\" (but be sure to hit save first!).\n\n<a name=\"faq_no_predictions\"></a>\n### I'm not getting any predictions when I try to predict the ratings for myself!\n\nThe model will only provide predictions for users who were included in the training set.  Make sure you included your own data when you trained the model.\n\n<a name=\"faq_high_ratings\"></a>\n### Some of the predicted ratings are bigger than 5!  Did I do something wrong?\nThe ALS algorithm has no notion of bounds on expected ratings, so you may get predicted ratings that are larger than 5.  This does not necessarily signify a bug in your code."
    }
   ],
   "metadata": {}
  }
 ]
}